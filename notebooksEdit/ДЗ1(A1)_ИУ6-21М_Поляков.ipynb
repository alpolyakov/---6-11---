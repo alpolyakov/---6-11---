{
 "cells": [
  {
   "cell_type": "markdown",
   "metadata": {},
   "source": [
    "<div style=\"font-size:18pt; padding-top:20px; text-align:center\">Домашнее задание А1. <b>Индекс реальной зарплаты</b></div><hr>\n",
    "<div style=\"text-align:right;\">Поляков А.А. <span style=\"font-style: italic;font-weight: bold;\">(группа ИУ6-21М)</span></div>"
   ]
  },
  {
   "cell_type": "markdown",
   "metadata": {},
   "source": [
    "Подключение стилей оформления"
   ]
  },
  {
   "cell_type": "code",
   "execution_count": 2,
   "metadata": {},
   "outputs": [
    {
     "data": {
      "text/html": [
       "<link href=\"css/style.css\" rel=\"stylesheet\" type=\"text/css\">\n"
      ],
      "text/plain": [
       "<IPython.core.display.HTML object>"
      ]
     },
     "metadata": {},
     "output_type": "display_data"
    }
   ],
   "source": [
    "%%html\n",
    "<link href=\"css/style.css\" rel=\"stylesheet\" type=\"text/css\">"
   ]
  },
  {
   "cell_type": "markdown",
   "metadata": {},
   "source": [
    "### Вариант 9  <span style=\"font-style: italic;\"> - Дальневосточный регион</span>\n"
   ]
  },
  {
   "cell_type": "code",
   "execution_count": 26,
   "metadata": {
    "scrolled": true
   },
   "outputs": [
    {
     "name": "stdout",
     "output_type": "stream",
     "text": [
      "Ваш вариант -  9\n"
     ]
    }
   ],
   "source": [
    "surname = \"Поляков\"  # Ваша фамилия\n",
    "\n",
    "alph = 'абвгдеёжзийклмнопрстуфхцчшщъыьэюя'\n",
    "w = [6, 31, 38, 29, 29, 20, 16,  4, 34,  3, 39, 33, 36, 33, 20,  3, 22,\n",
    "       31,  3, 34, 16, 25, 25, 25, 23, 13, 35, 19, 20, 26, 34, 39,  8]\n",
    "d = dict(zip(alph, w))\n",
    "variant =  sum([d[el] for el in surname.lower()]) % 9 + 1\n",
    "print(\"Ваш вариант - \", variant)"
   ]
  },
  {
   "cell_type": "code",
   "execution_count": 13,
   "metadata": {},
   "outputs": [],
   "source": [
    "import pandas as pnd\n",
    "import numpy as np"
   ]
  },
  {
   "cell_type": "markdown",
   "metadata": {},
   "source": [
    "<p>Создание DataFrame из Excel файла</p>"
   ]
  },
  {
   "cell_type": "code",
   "execution_count": 77,
   "metadata": {},
   "outputs": [
    {
     "data": {
      "text/plain": [
       "Unnamed: 0    Дальневосточный федеральный округ\n",
       "2002                                        NaN\n",
       "2003                                        NaN\n",
       "2004                                        NaN\n",
       "2005                                        NaN\n",
       "2006                                     110,57\n",
       "2007                                     108,29\n",
       "2008                                     112,69\n",
       "2009                                     112,87\n",
       "2010                                     106,66\n",
       "2011                                     107,75\n",
       "2012                                     105,29\n",
       "2013                                     106,53\n",
       "2014                                     107,23\n",
       "2015                                      114,5\n",
       "Name: 39, dtype: object"
      ]
     },
     "execution_count": 77,
     "metadata": {},
     "output_type": "execute_result"
    }
   ],
   "source": [
    "filePath1 = r\"C:/Users/Yoda/Desktop/Assignments-master/data/A1_Analytics/V1_Nom_Salary_By_Regions.xlsx\"\n",
    "filePath2 = r\"C:/Users/Yoda/Desktop/Assignments-master/data/A1_Analytics/V1_Index_Price_By_Year.xls\" \n",
    "\n",
    "# Создание DataFrame из Excel файла\n",
    "#header=1 - номер строка с названиями столбцов\n",
    "#skiprows=10 - при чтении файла пропускаются первые n строк \n",
    "dfNomSalaryBtRegions = pnd.read_excel(filePath1, header=0, skiprows=4)\n",
    "dfPriceByYear = pnd.read_excel(filePath2, header=0, skiprows=1)\n",
    "\n",
    "\n",
    "df1 = dfNomSalaryBtRegions.loc[91-6] #данные по Дальневосточному региону (индекс номинальной зарплаты)\n",
    "df2 = dfPriceByYear.loc[42-3]        #данные по Дальневосточному региону (индекс потребительских цен)  \n",
    "df2"
   ]
  },
  {
   "cell_type": "markdown",
   "metadata": {},
   "source": [
    "<p><b>Задача 1.</b> Найти индексы номинальной заработной платы, построить график изменения индекса в процентах (год-изменение индекса в %) </p>"
   ]
  },
  {
   "cell_type": "code",
   "execution_count": 15,
   "metadata": {},
   "outputs": [],
   "source": [
    "indxs1 = [] # Массив из индексов номинальной заработной платы\n",
    "for i in range(2002,2015):\n",
    "    indxs1.append(df1[i]/df1[i-1]*100)"
   ]
  },
  {
   "cell_type": "code",
   "execution_count": 16,
   "metadata": {
    "scrolled": false
   },
   "outputs": [
    {
     "data": {
      "text/html": [
       "<div>\n",
       "<style scoped>\n",
       "    .dataframe tbody tr th:only-of-type {\n",
       "        vertical-align: middle;\n",
       "    }\n",
       "\n",
       "    .dataframe tbody tr th {\n",
       "        vertical-align: top;\n",
       "    }\n",
       "\n",
       "    .dataframe thead th {\n",
       "        text-align: right;\n",
       "    }\n",
       "</style>\n",
       "<table border=\"1\" class=\"dataframe\">\n",
       "  <thead>\n",
       "    <tr style=\"text-align: right;\">\n",
       "      <th></th>\n",
       "      <th>Индекс номинальной зарплаты</th>\n",
       "    </tr>\n",
       "  </thead>\n",
       "  <tbody>\n",
       "    <tr>\n",
       "      <th>2003</th>\n",
       "      <td>126.351792</td>\n",
       "    </tr>\n",
       "    <tr>\n",
       "      <th>2004</th>\n",
       "      <td>120.656015</td>\n",
       "    </tr>\n",
       "    <tr>\n",
       "      <th>2005</th>\n",
       "      <td>126.249561</td>\n",
       "    </tr>\n",
       "    <tr>\n",
       "      <th>2006</th>\n",
       "      <td>119.147716</td>\n",
       "    </tr>\n",
       "    <tr>\n",
       "      <th>2007</th>\n",
       "      <td>121.891273</td>\n",
       "    </tr>\n",
       "    <tr>\n",
       "      <th>2008</th>\n",
       "      <td>124.324179</td>\n",
       "    </tr>\n",
       "    <tr>\n",
       "      <th>2009</th>\n",
       "      <td>111.451851</td>\n",
       "    </tr>\n",
       "    <tr>\n",
       "      <th>2010</th>\n",
       "      <td>111.470865</td>\n",
       "    </tr>\n",
       "    <tr>\n",
       "      <th>2011</th>\n",
       "      <td>113.579735</td>\n",
       "    </tr>\n",
       "    <tr>\n",
       "      <th>2012</th>\n",
       "      <td>114.544146</td>\n",
       "    </tr>\n",
       "    <tr>\n",
       "      <th>2013</th>\n",
       "      <td>111.894950</td>\n",
       "    </tr>\n",
       "    <tr>\n",
       "      <th>2014</th>\n",
       "      <td>108.774096</td>\n",
       "    </tr>\n",
       "  </tbody>\n",
       "</table>\n",
       "</div>"
      ],
      "text/plain": [
       "      Индекс номинальной зарплаты\n",
       "2003                   126.351792\n",
       "2004                   120.656015\n",
       "2005                   126.249561\n",
       "2006                   119.147716\n",
       "2007                   121.891273\n",
       "2008                   124.324179\n",
       "2009                   111.451851\n",
       "2010                   111.470865\n",
       "2011                   113.579735\n",
       "2012                   114.544146\n",
       "2013                   111.894950\n",
       "2014                   108.774096"
      ]
     },
     "execution_count": 16,
     "metadata": {},
     "output_type": "execute_result"
    }
   ],
   "source": [
    "# Структура вывода\n",
    "df_result_1 = pnd.DataFrame( indxs1[1:13], \n",
    "                            columns = [\"Индекс номинальной зарплаты\"], \n",
    "                            index = range(2003, 2015))\n",
    "\n",
    "df_result_1"
   ]
  },
  {
   "cell_type": "markdown",
   "metadata": {},
   "source": [
    "<p>График изменения индекса в процентах (год-изменение индекса в %)</p> \n"
   ]
  },
  {
   "cell_type": "code",
   "execution_count": 76,
   "metadata": {},
   "outputs": [
    {
     "data": {
      "image/png": "[encoded data removed]",
      "text/plain": [
       "<Figure size 432x288 with 1 Axes>"
      ]
     },
     "metadata": {
      "needs_background": "light"
     },
     "output_type": "display_data"
    }
   ],
   "source": [
    "chindxs1 = [] # Массив изменения индекса в %\n",
    "for i in range(0,12):\n",
    "    chindxs1.append(indxs1[i+1]/indxs1[i]*100-100)\n",
    "    \n",
    "import matplotlib.pyplot as plt\n",
    "#x = [2003, 2004, 2005]\n",
    "x = np.arange(start=2003, stop=2015, step=1)\n",
    "\n",
    "plt.figure(\"4\")\n",
    "plt.title(\"График изменения индекса номинальной зарплаты\")\n",
    "plt.plot(x, chindxs1, \"-o\")\n",
    "\n",
    "plt.xlabel(\"Год\", fontsize=12)\n",
    "plt.ylabel(\"Изменение индекса в %\", fontsize=12)\n",
    "plt.grid(True)\n",
    "plt.show()"
   ]
  },
  {
   "cell_type": "markdown",
   "metadata": {},
   "source": [
    "<p><b>Задача 2.</b> Построить график изменения индекса потребительских цен в процентах (год-изменение индекса в %) </p>"
   ]
  },
  {
   "cell_type": "code",
   "execution_count": 18,
   "metadata": {
    "scrolled": false
   },
   "outputs": [
    {
     "data": {
      "text/html": [
       "<div>\n",
       "<style scoped>\n",
       "    .dataframe tbody tr th:only-of-type {\n",
       "        vertical-align: middle;\n",
       "    }\n",
       "\n",
       "    .dataframe tbody tr th {\n",
       "        vertical-align: top;\n",
       "    }\n",
       "\n",
       "    .dataframe thead th {\n",
       "        text-align: right;\n",
       "    }\n",
       "</style>\n",
       "<table border=\"1\" class=\"dataframe\">\n",
       "  <thead>\n",
       "    <tr style=\"text-align: right;\">\n",
       "      <th></th>\n",
       "      <th>Индекс потребительских цен</th>\n",
       "    </tr>\n",
       "  </thead>\n",
       "  <tbody>\n",
       "    <tr>\n",
       "      <th>2006</th>\n",
       "      <td>110.57</td>\n",
       "    </tr>\n",
       "    <tr>\n",
       "      <th>2007</th>\n",
       "      <td>108.29</td>\n",
       "    </tr>\n",
       "    <tr>\n",
       "      <th>2008</th>\n",
       "      <td>112.69</td>\n",
       "    </tr>\n",
       "    <tr>\n",
       "      <th>2009</th>\n",
       "      <td>112.87</td>\n",
       "    </tr>\n",
       "    <tr>\n",
       "      <th>2010</th>\n",
       "      <td>106.66</td>\n",
       "    </tr>\n",
       "    <tr>\n",
       "      <th>2011</th>\n",
       "      <td>107.75</td>\n",
       "    </tr>\n",
       "    <tr>\n",
       "      <th>2012</th>\n",
       "      <td>105.29</td>\n",
       "    </tr>\n",
       "    <tr>\n",
       "      <th>2013</th>\n",
       "      <td>106.53</td>\n",
       "    </tr>\n",
       "    <tr>\n",
       "      <th>2014</th>\n",
       "      <td>107.23</td>\n",
       "    </tr>\n",
       "  </tbody>\n",
       "</table>\n",
       "</div>"
      ],
      "text/plain": [
       "      Индекс потребительских цен\n",
       "2006                      110.57\n",
       "2007                      108.29\n",
       "2008                      112.69\n",
       "2009                      112.87\n",
       "2010                      106.66\n",
       "2011                      107.75\n",
       "2012                      105.29\n",
       "2013                      106.53\n",
       "2014                      107.23"
      ]
     },
     "execution_count": 18,
     "metadata": {},
     "output_type": "execute_result"
    }
   ],
   "source": [
    "indxs2 = []                                          # Массив из индексов потребительских цен\n",
    "for i in range(2006,2015):                           #данные за 2003 - 2005 год отсутствуют\n",
    "    indxs2.append(float(df2[i].replace(',','.')))    #замена символа \",\" в данных на \".\"\n",
    "\n",
    "df_result_2 = pnd.DataFrame(indxs2[0:9], \n",
    "                            columns = [\"Индекс потребительских цен\"], \n",
    "                            index = range(2006, 2015))  \n",
    "\n",
    "df_result_2"
   ]
  },
  {
   "cell_type": "markdown",
   "metadata": {},
   "source": [
    "<p>График изменения индекса в процентах (год-изменение индекса в %)</p> \n"
   ]
  },
  {
   "cell_type": "code",
   "execution_count": 73,
   "metadata": {},
   "outputs": [
    {
     "data": {
      "image/png": "[encoded data removed]",
      "text/plain": [
       "<Figure size 432x288 with 1 Axes>"
      ]
     },
     "metadata": {
      "needs_background": "light"
     },
     "output_type": "display_data"
    }
   ],
   "source": [
    "chindxs2 = [] # Массив изменения индекса в %\n",
    "for i in range(0,8):\n",
    "    chindxs2.append(float(indxs2[i+1])/float(indxs2[i])*100-100)\n",
    "\n",
    "x = np.arange(start=2007, stop=2015, step=1) #данные за 2003 - 2005 год отсутствуют\n",
    "\n",
    "plt.figure(\"4\")\n",
    "plt.title(\"График изменения индекса потребительских цен\")\n",
    "plt.plot(x, chindxs2, \"-o\")\n",
    "\n",
    "plt.xlabel(\"Год\", fontsize=12)\n",
    "plt.ylabel(\"Изменение индекса в %\", fontsize=12)\n",
    "plt.grid(True)\n",
    "plt.show()"
   ]
  },
  {
   "cell_type": "markdown",
   "metadata": {},
   "source": [
    "<p><b>Задача 3.</b> Найти индексы реальной заработной платы, построить график изменения индекса в процентах (год-изменение индекса в %) </p>"
   ]
  },
  {
   "cell_type": "code",
   "execution_count": 20,
   "metadata": {},
   "outputs": [],
   "source": [
    "indxs3 = []                                          # Массив из индексов реальных цен\n",
    "for i in range(0,9):                                 \n",
    "    indxs3.append(float(indxs1[i+4]/indxs2[i])*100)    "
   ]
  },
  {
   "cell_type": "code",
   "execution_count": 22,
   "metadata": {
    "scrolled": true
   },
   "outputs": [
    {
     "data": {
      "text/html": [
       "<div>\n",
       "<style scoped>\n",
       "    .dataframe tbody tr th:only-of-type {\n",
       "        vertical-align: middle;\n",
       "    }\n",
       "\n",
       "    .dataframe tbody tr th {\n",
       "        vertical-align: top;\n",
       "    }\n",
       "\n",
       "    .dataframe thead th {\n",
       "        text-align: right;\n",
       "    }\n",
       "</style>\n",
       "<table border=\"1\" class=\"dataframe\">\n",
       "  <thead>\n",
       "    <tr style=\"text-align: right;\">\n",
       "      <th></th>\n",
       "      <th>Индекс реальной зарплаты</th>\n",
       "    </tr>\n",
       "  </thead>\n",
       "  <tbody>\n",
       "    <tr>\n",
       "      <th>2006</th>\n",
       "      <td>107.757724</td>\n",
       "    </tr>\n",
       "    <tr>\n",
       "      <th>2007</th>\n",
       "      <td>112.560045</td>\n",
       "    </tr>\n",
       "    <tr>\n",
       "      <th>2008</th>\n",
       "      <td>110.324056</td>\n",
       "    </tr>\n",
       "    <tr>\n",
       "      <th>2009</th>\n",
       "      <td>98.743556</td>\n",
       "    </tr>\n",
       "    <tr>\n",
       "      <th>2010</th>\n",
       "      <td>104.510468</td>\n",
       "    </tr>\n",
       "    <tr>\n",
       "      <th>2011</th>\n",
       "      <td>105.410427</td>\n",
       "    </tr>\n",
       "    <tr>\n",
       "      <th>2012</th>\n",
       "      <td>108.789198</td>\n",
       "    </tr>\n",
       "    <tr>\n",
       "      <th>2013</th>\n",
       "      <td>105.036093</td>\n",
       "    </tr>\n",
       "    <tr>\n",
       "      <th>2014</th>\n",
       "      <td>101.439985</td>\n",
       "    </tr>\n",
       "  </tbody>\n",
       "</table>\n",
       "</div>"
      ],
      "text/plain": [
       "      Индекс реальной зарплаты\n",
       "2006                107.757724\n",
       "2007                112.560045\n",
       "2008                110.324056\n",
       "2009                 98.743556\n",
       "2010                104.510468\n",
       "2011                105.410427\n",
       "2012                108.789198\n",
       "2013                105.036093\n",
       "2014                101.439985"
      ]
     },
     "execution_count": 22,
     "metadata": {},
     "output_type": "execute_result"
    }
   ],
   "source": [
    "df_result_3 = pnd.DataFrame(indxs3[0:9], \n",
    "                            columns = [\"Индекс реальной зарплаты\"], \n",
    "                            index = range(2006, 2015))  # данные потребительских цен за 2003 - 2005 год отсутствуют\n",
    "\n",
    "df_result_3"
   ]
  },
  {
   "cell_type": "markdown",
   "metadata": {},
   "source": [
    "<p>График изменения индекса в процентах (год-изменение индекса в %)</p> \n"
   ]
  },
  {
   "cell_type": "code",
   "execution_count": 70,
   "metadata": {},
   "outputs": [
    {
     "data": {
      "image/png": "[encoded data removed]",
      "text/plain": [
       "<Figure size 432x288 with 1 Axes>"
      ]
     },
     "metadata": {
      "needs_background": "light"
     },
     "output_type": "display_data"
    }
   ],
   "source": [
    "chindxs3 = [] # Массив изменения индекса в %\n",
    "for i in range(0,8):\n",
    "    chindxs3.append(float(indxs3[i+1])/float(indxs3[i])*100-100)\n",
    "\n",
    "x = np.arange(start=2007, stop=2015, step=1) #данные за 2003 - 2005 год отсутствуют\n",
    "\n",
    "plt.figure(\"4\")\n",
    "plt.title(\"График изменения индекса реальной зарплаты\")\n",
    "plt.grid(True)\n",
    "plt.plot(x, chindxs3, \"-o\")\n",
    "\n",
    "plt.xlabel(\"Год\", fontsize=12)\n",
    "plt.ylabel(\"Изменение индекса в %\", fontsize=12)\n",
    "plt.show()"
   ]
  },
  {
   "cell_type": "markdown",
   "metadata": {},
   "source": [
    "<p><b>Задача 4.</b> Отобразить все три индекса на одном графике</p>"
   ]
  },
  {
   "cell_type": "code",
   "execution_count": 48,
   "metadata": {},
   "outputs": [
    {
     "data": {
      "text/html": [
       "<div>\n",
       "<style scoped>\n",
       "    .dataframe tbody tr th:only-of-type {\n",
       "        vertical-align: middle;\n",
       "    }\n",
       "\n",
       "    .dataframe tbody tr th {\n",
       "        vertical-align: top;\n",
       "    }\n",
       "\n",
       "    .dataframe thead th {\n",
       "        text-align: right;\n",
       "    }\n",
       "</style>\n",
       "<table border=\"1\" class=\"dataframe\">\n",
       "  <thead>\n",
       "    <tr style=\"text-align: right;\">\n",
       "      <th></th>\n",
       "      <th>Индекс номинальной зарплаты</th>\n",
       "      <th>Индекс потребительских цен</th>\n",
       "      <th>Индекс реальной зарплаты</th>\n",
       "    </tr>\n",
       "  </thead>\n",
       "  <tbody>\n",
       "    <tr>\n",
       "      <th>2006</th>\n",
       "      <td>119.147716</td>\n",
       "      <td>110.57</td>\n",
       "      <td>107.757724</td>\n",
       "    </tr>\n",
       "    <tr>\n",
       "      <th>2007</th>\n",
       "      <td>121.891273</td>\n",
       "      <td>108.29</td>\n",
       "      <td>112.560045</td>\n",
       "    </tr>\n",
       "    <tr>\n",
       "      <th>2008</th>\n",
       "      <td>124.324179</td>\n",
       "      <td>112.69</td>\n",
       "      <td>110.324056</td>\n",
       "    </tr>\n",
       "    <tr>\n",
       "      <th>2009</th>\n",
       "      <td>111.451851</td>\n",
       "      <td>112.87</td>\n",
       "      <td>98.743556</td>\n",
       "    </tr>\n",
       "    <tr>\n",
       "      <th>2010</th>\n",
       "      <td>111.470865</td>\n",
       "      <td>106.66</td>\n",
       "      <td>104.510468</td>\n",
       "    </tr>\n",
       "    <tr>\n",
       "      <th>2011</th>\n",
       "      <td>113.579735</td>\n",
       "      <td>107.75</td>\n",
       "      <td>105.410427</td>\n",
       "    </tr>\n",
       "    <tr>\n",
       "      <th>2012</th>\n",
       "      <td>114.544146</td>\n",
       "      <td>105.29</td>\n",
       "      <td>108.789198</td>\n",
       "    </tr>\n",
       "    <tr>\n",
       "      <th>2013</th>\n",
       "      <td>111.894950</td>\n",
       "      <td>106.53</td>\n",
       "      <td>105.036093</td>\n",
       "    </tr>\n",
       "    <tr>\n",
       "      <th>2014</th>\n",
       "      <td>108.774096</td>\n",
       "      <td>107.23</td>\n",
       "      <td>101.439985</td>\n",
       "    </tr>\n",
       "  </tbody>\n",
       "</table>\n",
       "</div>"
      ],
      "text/plain": [
       "      Индекс номинальной зарплаты  Индекс потребительских цен  \\\n",
       "2006                   119.147716                      110.57   \n",
       "2007                   121.891273                      108.29   \n",
       "2008                   124.324179                      112.69   \n",
       "2009                   111.451851                      112.87   \n",
       "2010                   111.470865                      106.66   \n",
       "2011                   113.579735                      107.75   \n",
       "2012                   114.544146                      105.29   \n",
       "2013                   111.894950                      106.53   \n",
       "2014                   108.774096                      107.23   \n",
       "\n",
       "      Индекс реальной зарплаты  \n",
       "2006                107.757724  \n",
       "2007                112.560045  \n",
       "2008                110.324056  \n",
       "2009                 98.743556  \n",
       "2010                104.510468  \n",
       "2011                105.410427  \n",
       "2012                108.789198  \n",
       "2013                105.036093  \n",
       "2014                101.439985  "
      ]
     },
     "execution_count": 48,
     "metadata": {},
     "output_type": "execute_result"
    }
   ],
   "source": [
    "#Структура вывода\n",
    "df_result_4 = pnd.DataFrame([[indxs1[4], indxs2[0], indxs3[0]],\n",
    "                            [indxs1[5], indxs2[1], indxs3[1]],\n",
    "                            [indxs1[6], indxs2[2], indxs3[2]],\n",
    "                            [indxs1[7], indxs2[3], indxs3[3]],\n",
    "                            [indxs1[8], indxs2[4], indxs3[4]],\n",
    "                            [indxs1[9], indxs2[5], indxs3[5]],\n",
    "                            [indxs1[10], indxs2[6], indxs3[6]],\n",
    "                            [indxs1[11], indxs2[7], indxs3[7]],\n",
    "                            [indxs1[12], indxs2[8], indxs3[8]]],\n",
    "                            columns = [\"Индекс номинальной зарплаты\", \n",
    "                                       \"Индекс потребительских цен\", \n",
    "                                       \"Индекс реальной зарплаты\"], \n",
    "                            index = range(2006, 2015))\n",
    "\n",
    "df_result_4"
   ]
  },
  {
   "cell_type": "code",
   "execution_count": 66,
   "metadata": {},
   "outputs": [
    {
     "data": {
      "image/png": "[encoded data removed]",
      "text/plain": [
       "<Figure size 864x576 with 1 Axes>"
      ]
     },
     "metadata": {
      "needs_background": "light"
     },
     "output_type": "display_data"
    }
   ],
   "source": [
    "x = np.arange(start=2006, stop=2015, step=1) # данные потребительских цен за 2003 - 2005 год отсутствуют\n",
    "\n",
    "plt.figure(\"4\", figsize=[12, 8])\n",
    "plt.plot(x, indxs1[4:13], \"-ro\", label=\"Индекс номинальной зарплаты\")\n",
    "plt.plot(x, indxs2[0:9], \"-go\", label=\"Индекс потребительских цен\")\n",
    "plt.plot(x, indxs3[0:9], \"-bo\", label=\"Индекс реальной зарплаты\")\n",
    "\n",
    "plt.grid(True)\n",
    "plt.legend(loc=2, title=\"Индексы\", fontsize=12)\n",
    "\n",
    "plt.xlabel(\"Год\", fontsize=12)\n",
    "plt.ylabel(\"Индекс\", fontsize=12)\n",
    "\n",
    "\n",
    "plt.show()"
   ]
  },
  {
   "cell_type": "markdown",
   "metadata": {},
   "source": [
    "<div style=\"font-size:18pt; padding-top:20px; text-align:center\">Домашнее задание А1. <b>Дескриптивный анализ данных</b></div><hr>"
   ]
  },
  {
   "cell_type": "code",
   "execution_count": null,
   "metadata": {},
   "outputs": [],
   "source": []
  }
 ],
 "metadata": {
  "kernelspec": {
   "display_name": "Python 3",
   "language": "python",
   "name": "python3"
  },
  "language_info": {
   "codemirror_mode": {
    "name": "ipython",
    "version": 3
   },
   "file_extension": ".py",
   "mimetype": "text/x-python",
   "name": "python",
   "nbconvert_exporter": "python",
   "pygments_lexer": "ipython3",
   "version": "3.8.5"
  }
 },
 "nbformat": 4,
 "nbformat_minor": 4
}
